{
 "cells": [
  {
   "cell_type": "markdown",
   "source": [
    "# 合并JSONL文件为JSON文件"
   ],
   "metadata": {
    "collapsed": false
   },
   "id": "be4ed0b69c781aa4"
  },
  {
   "cell_type": "code",
   "execution_count": null,
   "id": "initial_id",
   "metadata": {
    "collapsed": true
   },
   "outputs": [],
   "source": [
    "import json\n",
    "\n",
    "def read_jsonl_data(file_path: str) -> list:\n",
    "    data_list = []\n",
    "    with open(file_path, \"r\", encoding=\"utf8\") as jsonl_file:\n",
    "        jsonl_data = [line.strip() for line in jsonl_file.readlines()]\n",
    "    for jd in jsonl_data:\n",
    "        data = json.loads(jd)\n",
    "        data_list.append(data)\n",
    "    return data_list\n",
    "\n",
    "\n",
    "file_list = [\"RealisticCodeBench_python.jsonl\", \"./RealisticCodeBench_javascript.jsonl\",\n",
    "             \"./RealisticCodeBench_typescript.jsonl\", \"./RealisticCodeBench_c&cpp.jsonl\",\n",
    "             \"./RealisticCodeBench_java.jsonl\"]\n",
    "\n",
    "total_data = []\n",
    "for file in file_list:\n",
    "    total_data.extend(read_jsonl_data(file))\n",
    "\n",
    "with open(\"all_question.json\", \"w\", encoding=\"utf8\") as file:\n",
    "    json.dump(total_data, file)\n"
   ]
  },
  {
   "cell_type": "markdown",
   "source": [
    "# 统计各个语言问题的数量"
   ],
   "metadata": {
    "collapsed": false
   },
   "id": "adfd7deb77f12235"
  },
  {
   "cell_type": "code",
   "execution_count": 3,
   "outputs": [
    {
     "name": "stdout",
     "output_type": "stream",
     "text": [
      "{'python': 392, 'javascript': 375, 'typescript': 370, 'java': 337, 'c&cpp': 350}\n"
     ]
    }
   ],
   "source": [
    "import json\n",
    "\n",
    "result = {\n",
    "    \"python\": 0,\n",
    "    \"javascript\": 0,\n",
    "    \"typescript\": 0,\n",
    "    \"java\": 0,\n",
    "    \"c&cpp\": 0\n",
    "}\n",
    "language_list = [\"python\", \"javascript\", \"typescript\", \"java\", \"c&cpp\"]\n",
    "with open(\"./all_question.json\") as json_file:\n",
    "    all_question = json.load(json_file)\n",
    "for data in all_question:\n",
    "    ls = data[\"language_version_list\"]\n",
    "    for language in language_list:\n",
    "        signature = ls[language][\"code_signature\"]\n",
    "        if signature != \"\":\n",
    "            result[language] = result[language] + 1\n",
    "print(result)"
   ],
   "metadata": {
    "collapsed": false,
    "ExecuteTime": {
     "end_time": "2025-02-23T06:38:26.471843300Z",
     "start_time": "2025-02-23T06:38:26.414902300Z"
    }
   },
   "id": "f11668a520315227"
  },
  {
   "cell_type": "code",
   "execution_count": null,
   "outputs": [],
   "source": [],
   "metadata": {
    "collapsed": false
   },
   "id": "17c828cd118b49c0"
  }
 ],
 "metadata": {
  "kernelspec": {
   "display_name": "Python 3",
   "language": "python",
   "name": "python3"
  },
  "language_info": {
   "codemirror_mode": {
    "name": "ipython",
    "version": 2
   },
   "file_extension": ".py",
   "mimetype": "text/x-python",
   "name": "python",
   "nbconvert_exporter": "python",
   "pygments_lexer": "ipython2",
   "version": "2.7.6"
  }
 },
 "nbformat": 4,
 "nbformat_minor": 5
}
