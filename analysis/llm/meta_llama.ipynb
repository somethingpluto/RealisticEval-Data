{
 "cells": [
  {
   "cell_type": "code",
   "execution_count": null,
   "metadata": {
    "collapsed": true
   },
   "outputs": [],
   "source": [
    "import json\n",
    "# For prerequisites running the following sample, visit https://help.aliyun.com/document_detail/611472.html\n",
    "from http import HTTPStatus\n",
    "import dashscope\n",
    "\n",
    "dashscope.api_key = 'sk-ff167cad89364e2491fc6193e006c4a3'\n",
    "\n",
    "\n",
    "def call_with_messages(temperature, messages):\n",
    "    response = dashscope.Generation.call(\n",
    "        model='llama3-8b-instruct',\n",
    "        messages=messages,\n",
    "        result_format='message',  # set the result to be \"message\" format.\n",
    "        temperature=temperature,\n",
    "        top_p=0.95\n",
    "    )\n",
    "    if response.status_code == HTTPStatus.OK:\n",
    "        return response.output\n",
    "    else:\n",
    "        return \"\"\n",
    "\n",
    "\n",
    "def extract_code_from_content(language, content):\n",
    "    start = content.find(\"```\")\n",
    "    if start == -1:\n",
    "        return content\n",
    "\n",
    "    end = content.find(\"```\", start + 3)\n",
    "    if end == -1:\n",
    "        return content\n",
    "\n",
    "    code_block = content[start + 3:end].strip()\n",
    "\n",
    "    first_newline = code_block.find(\"\\n\")\n",
    "    if first_newline != -1:\n",
    "        code_block = code_block[first_newline:].strip()\n",
    "    if language != \"c&cpp\":\n",
    "        return code_block\n",
    "    elif language == \"c&cpp\":\n",
    "        return code_block.split(\"int main()\")[0]\n",
    "    return code_block"
   ]
  },
  {
   "cell_type": "code",
   "execution_count": null,
   "outputs": [],
   "source": [
    "from tqdm import tqdm\n",
    "\n",
    "LANGUAGE_LIST = ['c&cpp']\n",
    "QUESTION_PATH = r\"E:\\code\\code_back\\python_project\\llm\\qa\\question\\all_question.json\"\n",
    "PASS_NUMBER = 1\n",
    "temperature = 0\n",
    "if PASS_NUMBER == 1:\n",
    "    temperature = 0.01\n",
    "elif PASS_NUMBER == 10:\n",
    "    temperature = 0.8\n",
    "MODEL_NAME = \"Meta-Llama-3.1-8B-Instruct\"\n",
    "ANSWER_PATH = rf\"E:\\code\\code_back\\python_project\\llm\\qa\\{MODEL_NAME}_answer\"\n",
    "for language in LANGUAGE_LIST:\n",
    "    with open(QUESTION_PATH, \"r\", encoding=\"utf8\") as file:\n",
    "        question_list = json.load(file)\n",
    "        for question in tqdm(question_list):\n",
    "            all_response = []\n",
    "            try:\n",
    "                prompt = question[\"language_version_list\"][language]['prompt']\n",
    "                if prompt == \"\":\n",
    "                    continue\n",
    "                messages = [\n",
    "                    {'role': 'user', 'content': prompt + \"give the all code, no examples are required. no main() func required\"}\n",
    "                ]\n",
    "                for loop in range(1, PASS_NUMBER + 1):\n",
    "                    response = call_with_messages(temperature, messages)\n",
    "                    response_code = str(response.choices[0].message.content)\n",
    "                    all_response.append({\"index\": loop, \"model_name\": MODEL_NAME, \"response_code\": extract_code_from_content(language,response_code)})\n",
    "                question[\"language_version_list\"][language][\"answer_list\"] = all_response\n",
    "                print(question)\n",
    "                with open(f\"{ANSWER_PATH}/{language}_answer_pass{PASS_NUMBER}.jsonl\", \"a+\", encoding='utf8') as file:\n",
    "                    json_str = json.dumps(question)\n",
    "                    file.write(json_str + \"\\n\")\n",
    "                    file.flush()\n",
    "            except Exception as e:\n",
    "                print(e)\n",
    "                continue\n",
    "            print(f\"{question['task_id']} start answer finish\")"
   ],
   "metadata": {
    "collapsed": false
   }
  },
  {
   "cell_type": "code",
   "execution_count": null,
   "outputs": [],
   "source": [],
   "metadata": {
    "collapsed": false
   }
  }
 ],
 "metadata": {
  "kernelspec": {
   "display_name": "Python 3",
   "language": "python",
   "name": "python3"
  },
  "language_info": {
   "codemirror_mode": {
    "name": "ipython",
    "version": 2
   },
   "file_extension": ".py",
   "mimetype": "text/x-python",
   "name": "python",
   "nbconvert_exporter": "python",
   "pygments_lexer": "ipython2",
   "version": "2.7.6"
  }
 },
 "nbformat": 4,
 "nbformat_minor": 0
}
