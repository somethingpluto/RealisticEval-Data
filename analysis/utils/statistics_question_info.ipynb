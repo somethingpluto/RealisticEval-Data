{
 "cells": [
  {
   "cell_type": "markdown",
   "source": [
    "# 提取所有题目信息"
   ],
   "metadata": {
    "collapsed": false
   }
  },
  {
   "cell_type": "code",
   "execution_count": 11,
   "outputs": [],
   "source": [
    "import json\n",
    "import pandas as pd"
   ],
   "metadata": {
    "collapsed": false
   }
  },
  {
   "cell_type": "code",
   "execution_count": 12,
   "metadata": {
    "collapsed": true
   },
   "outputs": [],
   "source": [
    "LANGUAGE_LIST = [\"python\", \"javascript\", \"typescript\", \"java\", \"c&cpp\"]\n",
    "SUFFIX_MAP = {\n",
    "    \"python\": \"py\",\n",
    "    \"javascript\": \"js\",\n",
    "    \"typescript\": \"ts\",\n",
    "    \"c&cpp\": \"cpp\",\n",
    "    \"java\": \"java\"\n",
    "}\n",
    "\n",
    "\n",
    "def generate_python_prompt(code_signature, code_type):\n",
    "    if code_type == \"method\":\n",
    "        return f\"please write a python function , the function signature as below {code_signature}\"\n",
    "    elif code_type == \"class\":\n",
    "        return f\"please write a python class , the class signature as below {code_signature}\"\n",
    "\n",
    "\n",
    "def generate_javascript_prompt(code_signature, code_type):\n",
    "    if code_type == \"method\":\n",
    "        return f\"please write a javascript function , the function signature as below {code_signature}\"\n",
    "    elif code_type == \"class\":\n",
    "        return f\"please write a javascript class , the class signature as below {code_signature}\"\n",
    "\n",
    "\n",
    "def generate_typescript_prompt(code_signature, code_type):\n",
    "    if code_type == \"method\":\n",
    "        return f\"please write a typescript function , the function signature as below {code_signature}\"\n",
    "    elif code_type == \"class\":\n",
    "        return f\"please write a typescript class , the class signature as below {code_signature}\"\n",
    "\n",
    "\n",
    "def generate_ccpp_prompt(code_signature, code_type):\n",
    "    if code_type == \"method\":\n",
    "        return f\"please write a cpp function , the function signature as below {code_signature}\"\n",
    "    elif code_type == \"class\":\n",
    "        return f\"please write a cpp class , the class signature as below {code_signature}\"\n",
    "\n",
    "\n",
    "def generate_java_prompt(code_signature, code_type):\n",
    "    if code_type == \"method\":\n",
    "        return f\"please write a java function , the function signature as below {code_signature},package is org.real.temp, class is Answer\"\n",
    "    elif code_type == \"class\":\n",
    "        return f\"please write a java class , the function signature as below {code_signature},package is org.real.temp, class is Answer\"\n",
    "\n",
    "\n",
    "LANGUAGE_PROMPT_MAP = {\n",
    "    \"python\": generate_python_prompt,\n",
    "    \"javascript\": generate_javascript_prompt,\n",
    "    \"typescript\": generate_typescript_prompt,\n",
    "    \"c&cpp\": generate_ccpp_prompt,\n",
    "    \"java\": generate_java_prompt\n",
    "}"
   ]
  },
  {
   "cell_type": "code",
   "execution_count": 17,
   "outputs": [
    {
     "name": "stdout",
     "output_type": "stream",
     "text": [
      "[Errno 2] No such file or directory: '../../all/t434/c&cpp/signature.cpp'\n",
      "[Errno 2] No such file or directory: '../../all/t434/java/Signature.java'\n",
      "[Errno 2] No such file or directory: '../../all/t434/javascript/signature.js'\n",
      "[Errno 2] No such file or directory: '../../all/t434/typescript/signature.ts'\n",
      "[Errno 2] No such file or directory: '../../all/t461/c&cpp/signature.cpp'\n",
      "[Errno 2] No such file or directory: '../../all/t461/java/Signature.java'\n",
      "[Errno 2] No such file or directory: '../../all/t461/typescript/signature.ts'\n",
      "[Errno 2] No such file or directory: '../../all/t618/python/signature.py'\n",
      "[Errno 2] No such file or directory: '../../all/t618/c&cpp/signature.cpp'\n",
      "[Errno 2] No such file or directory: '../../all/t618/java/Signature.java'\n"
     ]
    }
   ],
   "source": [
    "total_question = []\n",
    "need_question_list = [\"python\",\"c&cpp\",\"java\",\"javascript\",\"typescript\"]\n",
    "for language in LANGUAGE_LIST:\n",
    "    excel_data = pd.read_excel(\"../xlsx/RealisticEval-Data.xlsx\", sheet_name=language)\n",
    "    data = excel_data[excel_data['check'] == 'yes']\n",
    "    # 遍历每一行\n",
    "    for index, row in data.iterrows():\n",
    "        task_id = int(row['task_id'])\n",
    "        code_type = row['code_type']\n",
    "        original_language = language\n",
    "        question_type = row['question_type']\n",
    "        summary = row['task_summary_en']\n",
    "        temp_data = {\n",
    "            \"task_id\": task_id,\n",
    "            \"code_type\": code_type,\n",
    "            \"original_language\": original_language,\n",
    "            \"question_type\": question_type,\n",
    "            \"summary\": summary, \"language_version_list\": {\n",
    "                \"python\": {\n",
    "                    \"code_signature\": \"\",\n",
    "                    \"test_code\": \"\",\n",
    "                    \"prompt\": \"\",\n",
    "                    \"addition_info\": \"\"\n",
    "                },\n",
    "                \"javascript\": {\n",
    "                    \"code_signature\": \"\",\n",
    "                    \"test_code\": \"\",\n",
    "                    \"prompt\": \"\",\n",
    "                    \"addition_info\": \"\"\n",
    "                },\n",
    "                \"typescript\": {\n",
    "                    \"code_signature\": \"\",\n",
    "                    \"test_code\": \"\",\n",
    "                    \"prompt\": \"\",\n",
    "                    \"addition_info\": \"\"\n",
    "                },\n",
    "                \"c&cpp\": {\n",
    "                    \"code_signature\": \"\",\n",
    "                    \"test_code\": \"\",\n",
    "                    \"prompt\": \"\",\n",
    "                    \"addition_info\": \"\"\n",
    "                },\n",
    "                \"java\": {\n",
    "                    \"code_signature\": \"\",\n",
    "                    \"test_code\": \"\",\n",
    "                    \"prompt\": \"\",\n",
    "                    \"addition_info\": \"\"\n",
    "                }\n",
    "            }\n",
    "        }\n",
    "        for q in need_question_list:\n",
    "            try:\n",
    "                if language == q:\n",
    "                    pass\n",
    "                elif row[q] != \"finish\":\n",
    "                    continue\n",
    "                language_version_list = temp_data[\"language_version_list\"]\n",
    "                language_info = language_version_list[q]\n",
    "                dir_path = f\"../../all/t{task_id}\"\n",
    "                if q == \"java\":\n",
    "                    signature_path = f\"{dir_path}/{q}/Signature.{SUFFIX_MAP[q]}\"\n",
    "                else:\n",
    "                    signature_path = f\"{dir_path}/{q}/signature.{SUFFIX_MAP[q]}\"\n",
    "                addition_info = str(row[f\"{q}_addition_info\"])\n",
    "                if addition_info == 'nan':\n",
    "                    addition_info = \"\"\n",
    "                with open(signature_path, \"r\", encoding=\"utf8\") as signature_file:\n",
    "                    code_signature = signature_file.read()\n",
    "                if q == \"java\":\n",
    "                    test_path = f\"{dir_path}/{q}/Tester.{SUFFIX_MAP[q]}\"\n",
    "                else:\n",
    "                    test_path = f\"{dir_path}/{q}/test.{SUFFIX_MAP[q]}\"\n",
    "                with open(test_path, \"r\", encoding=\"utf8\") as test_file:\n",
    "                    code_test = test_file.read()\n",
    "                prompt = LANGUAGE_PROMPT_MAP[q](code_signature, code_type)\n",
    "                language_info[\"code_signature\"] = code_signature\n",
    "                language_info[\"test_code\"] = code_test\n",
    "                language_info[\"prompt\"] = prompt\n",
    "                language_info[\"addition_info\"] = addition_info\n",
    "            except Exception as e:\n",
    "                print(e)\n",
    "                continue\n",
    "        with open(f\"../question/RealisticCodeBench_{language}.jsonl\",\"a+\",encoding=\"utf8\") as file:\n",
    "            json_str=json.dumps(temp_data)\n",
    "            file.write(json_str+\"\\n\")\n",
    "            file.flush()"
   ],
   "metadata": {
    "collapsed": false
   }
  },
  {
   "cell_type": "markdown",
   "source": [
    "# 单语言问题信息提取"
   ],
   "metadata": {
    "collapsed": false
   }
  },
  {
   "cell_type": "code",
   "execution_count": null,
   "outputs": [],
   "source": [
    "for language in LANGUAGE_LIST:\n",
    "    # 读取excel表 获取数据信息\n",
    "    excel_data = pd.read_excel(\"./xlsx/RealisticEval-Data.xlsx\", sheet_name=language)\n",
    "    data = excel_data[excel_data['check'] == 'yes']\n",
    "    # 遍历每一行\n",
    "    question_array = []\n",
    "\n",
    "    for index, row in data.iterrows():\n",
    "        task_id = int(row[\"task_id\"])\n",
    "        code_type = row[\"code_type\"]\n",
    "        dir_path = f\"../all/t{task_id}\"\n",
    "        if language == \"java\":\n",
    "            signature_path = f\"{dir_path}/{language}/Signature.{SUFFIX_MAP[language]}\"\n",
    "        else:\n",
    "            signature_path = f\"{dir_path}/{language}/signature.{SUFFIX_MAP[language]}\"\n",
    "        addition_info = str(row[\"addition_info\"])\n",
    "        if addition_info == 'nan':\n",
    "            addition_info = \"\"\n",
    "        with open(signature_path, \"r\", encoding=\"utf8\") as signature_file:\n",
    "            code_signature = signature_file.read()\n",
    "        if language == \"java\":\n",
    "            test_path = f\"{dir_path}/{language}/Tester.{SUFFIX_MAP[language]}\"\n",
    "        else:\n",
    "            test_path = f\"{dir_path}/{language}/test.{SUFFIX_MAP[language]}\"\n",
    "        with open(test_path, \"r\", encoding=\"utf8\") as test_file:\n",
    "            code_test = test_file.read()\n",
    "        prompt = LANGUAGE_PROMPT_MAP[language](code_signature, code_type)\n",
    "        question_info = {\n",
    "            \"task_id\": task_id,\n",
    "            \"code_type\": code_type,\n",
    "            \"code_signature\": code_signature,\n",
    "            \"code_language\": language,\n",
    "            \"test_code\": code_test,\n",
    "            \"prompt\": prompt,\n",
    "            \"addition_info\": addition_info\n",
    "\n",
    "        }\n",
    "        question_array.append(question_info)\n",
    "        print(f\"task_id:{task_id} signature:{len(code_signature)} test:{len(code_test)}\")\n",
    "    with open(f\"./question/{language}.json\", \"w\", encoding=\"utf8\") as question_file:\n",
    "        json_str = json.dumps(question_array)\n",
    "        question_file.write(json_str)\n",
    "        question_file.flush()\n",
    "    with open(rf\"E:\\code\\code_back\\python_project\\llm\\qa\\question\\{language}.json\", \"w\",encoding=\"utf8\") as question_file:\n",
    "        json_str = json.dumps(question_array)\n",
    "        question_file.write(json_str)\n",
    "        question_file.flush()"
   ],
   "metadata": {
    "collapsed": false
   }
  },
  {
   "cell_type": "markdown",
   "source": [
    "# 数据集问题类型统计-代码类型"
   ],
   "metadata": {
    "collapsed": false
   }
  },
  {
   "cell_type": "code",
   "execution_count": null,
   "outputs": [],
   "source": [
    "import pandas as pd"
   ],
   "metadata": {
    "collapsed": false
   }
  },
  {
   "cell_type": "code",
   "execution_count": null,
   "outputs": [],
   "source": [
    "language_list = [\"python\",\"javascript\",\"typescript\",\"java\",\"c&cpp\"]\n",
    "class_number = 0\n",
    "func_number = 0\n",
    "for language in language_list:\n",
    "    data = pd.read_excel(\"./xlsx/RealisticEval-Data.xlsx\",sheet_name=language)\n",
    "    method_data = data[data['code_type']=='method']\n",
    "    class_data = data[data['code_type'] == 'class']\n",
    "    func_number = func_number + len(method_data)\n",
    "    class_number =class_number +len(class_data)\n",
    "print(\"class number:\",class_number)\n",
    "print(\"func number:\",func_number)"
   ],
   "metadata": {
    "collapsed": false
   }
  },
  {
   "cell_type": "markdown",
   "source": [
    "# 数据集问题统计-不同类型代码问题集合"
   ],
   "metadata": {
    "collapsed": false
   }
  },
  {
   "cell_type": "code",
   "execution_count": null,
   "outputs": [],
   "source": [
    "import pandas as pd"
   ],
   "metadata": {
    "collapsed": false
   }
  },
  {
   "cell_type": "code",
   "execution_count": null,
   "outputs": [],
   "source": [
    "language_list = [\"python\",\"javascript\",\"typescript\",\"java\",\"c&cpp\"]\n",
    "result = {\n",
    "    \"python\":0,\n",
    "    \"javascript\":0,\n",
    "    \"typescript\":0,\n",
    "    \"c&cpp\":0,\n",
    "    \"java\":0\n",
    "}\n",
    "for language in language_list:\n",
    "    data = pd.read_excel(\"./xlsx/RealisticEval-Data.xlsx\",sheet_name=language)\n",
    "    count1 = data['check'].value_counts().get(\"yes\",0)\n",
    "    result[language] = result[language]+count1\n",
    "    for l in language_list:\n",
    "        if l == language:\n",
    "            continue\n",
    "        count2 = data[l].value_counts().get('finish',0)\n",
    "        result[l] = result[l]+count2\n",
    "result"
   ],
   "metadata": {
    "collapsed": false
   }
  },
  {
   "cell_type": "markdown",
   "source": [
    "# 根据question_type 统计数量"
   ],
   "metadata": {
    "collapsed": false
   }
  },
  {
   "cell_type": "code",
   "execution_count": null,
   "outputs": [],
   "source": [
    "import pandas as pd"
   ],
   "metadata": {
    "collapsed": false
   }
  },
  {
   "cell_type": "code",
   "execution_count": null,
   "outputs": [],
   "source": [
    "language_list = [\"python\",\"javascript\",\"typescript\",\"java\",\"c&cpp\"]\n",
    "result_dict_list = []\n",
    "for language in language_list:\n",
    "    data = pd.read_excel(\"../xlsx/RealisticEval-Data.xlsx\",sheet_name=language)\n",
    "    series = data['new_question_type'].value_counts()\n",
    "    result_dict_list.append(series.to_dict())\n",
    "result = {}\n",
    "for d in result_dict_list:\n",
    "    for key, value in d.items():\n",
    "        # 如果键已存在，则累加其值；否则，初始化该键的值\n",
    "        if key in result:\n",
    "            result[key] += value\n",
    "        else:\n",
    "            result[key] = value\n",
    "result"
   ],
   "metadata": {
    "collapsed": false
   }
  },
  {
   "cell_type": "markdown",
   "source": [
    "# 根据input type 统计参数数量"
   ],
   "metadata": {
    "collapsed": false
   }
  },
  {
   "cell_type": "code",
   "execution_count": null,
   "outputs": [],
   "source": [
    "import pandas as pd"
   ],
   "metadata": {
    "collapsed": false
   }
  },
  {
   "cell_type": "code",
   "execution_count": null,
   "outputs": [],
   "source": [
    "language_list = [\"python\",\"javascript\",\"typescript\",\"java\",\"c&cpp\"]\n",
    "result_dict_list = []\n",
    "for language in language_list:\n",
    "    data = pd.read_excel(\"../xlsx/RealisticEval-Data.xlsx\",sheet_name=language)\n",
    "    series = data['input_type'].value_counts()\n",
    "    result_dict_list.append(series.to_dict())\n",
    "result = {}\n",
    "for d in result_dict_list:\n",
    "    for key, value in d.items():\n",
    "        # 如果键已存在，则累加其值；否则，初始化该键的值\n",
    "        if key in result:\n",
    "            result[key] += value\n",
    "        else:\n",
    "            result[key] = value\n",
    "final_result = {}\n",
    "for key,value in result.items():\n",
    "    key_list = key.split(\",\")\n",
    "    if len(key_list) == 1:\n",
    "        is_ok = final_result.get(key_list[0],None)\n",
    "        if is_ok:\n",
    "            final_result[key_list[0]] = final_result[key_list[0]]+value\n",
    "        else:\n",
    "            final_result[key_list[0]] = value\n",
    "    else:\n",
    "        for k in key_list:\n",
    "            is_ok = final_result.get(key_list[0],None)\n",
    "            if is_ok:\n",
    "                final_result[key_list[0]] = final_result[key_list[0]]+value\n",
    "            else:\n",
    "                final_result[key_list[0]] = value\n",
    "sorted_dict = dict(sorted(final_result.items(), key=lambda item: item[1],reverse=True))\n",
    "sorted_dict"
   ],
   "metadata": {
    "collapsed": false
   }
  },
  {
   "cell_type": "markdown",
   "source": [
    "# 统计回答问题行数"
   ],
   "metadata": {
    "collapsed": false
   }
  },
  {
   "cell_type": "code",
   "execution_count": null,
   "outputs": [],
   "source": [
    "import json\n",
    "import pandas"
   ],
   "metadata": {
    "collapsed": false
   }
  },
  {
   "cell_type": "code",
   "execution_count": null,
   "outputs": [],
   "source": [
    "language_list = ['python','javascript','typescript','java','c&cpp']\n",
    "SUFFIX_MAP = {\n",
    "    \"python\": \"py\",\n",
    "    \"javascript\": \"js\",\n",
    "    \"typescript\": \"ts\",\n",
    "    \"c&cpp\": \"cpp\",\n",
    "    \"java\": \"java\"\n",
    "}\n",
    "answer_file_line_result = {\n",
    "    \"python\":[],\n",
    "    \"java\":[],\n",
    "    \"javascript\":[],\n",
    "    \"typescript\":[],\n",
    "    \"c&cpp\":[]\n",
    "}\n",
    "\n",
    "with open(\"../question/all_question.json\",\"r\",encoding=\"utf8\") as file:\n",
    "    data_list  = json.load(file)\n",
    "for item in data_list:\n",
    "    try:\n",
    "        task_id = item['task_id']\n",
    "        question_dir_path = rf\"E:\\code\\code_back\\python_project\\RealisticEval-Data\\all\\t{task_id}\"\n",
    "        for language in language_list:\n",
    "            language_item = item['language_version_list'][language]\n",
    "            if language_item['code_signature'] ==\"\":\n",
    "                continue\n",
    "            if language == \"java\":\n",
    "                answer_file = \"Answer.java\"\n",
    "            else:\n",
    "                answer_file = f\"answer.{SUFFIX_MAP[language]}\"\n",
    "            language_answer_path = rf\"{question_dir_path}\\{language}\\{answer_file}\"\n",
    "            with open(language_answer_path,'r',encoding=\"utf8\") as file:\n",
    "                answer_lines = len(file.readlines())\n",
    "                if answer_lines == 0:\n",
    "                    continue\n",
    "                answer_file_line_result[language].append(answer_lines)\n",
    "    except Exception as e:\n",
    "        print(e)\n",
    "        continue\n",
    "all_language_average = 0\n",
    "for key,value in answer_file_line_result.items():\n",
    "    print(f\"{key},line:{sum(value)/len(value)}\")\n",
    "    all_language_average  = all_language_average+sum(value)/len(value)\n",
    "print(\"all language average\",all_language_average/5)"
   ],
   "metadata": {
    "collapsed": false
   }
  },
  {
   "cell_type": "markdown",
   "source": [
    "# 计算prompt token 数"
   ],
   "metadata": {
    "collapsed": false
   }
  },
  {
   "cell_type": "code",
   "execution_count": null,
   "outputs": [],
   "source": [
    "import json"
   ],
   "metadata": {
    "collapsed": false
   }
  },
  {
   "cell_type": "code",
   "execution_count": null,
   "outputs": [],
   "source": [
    "language_list = ['python','javascript','typescript','java','c&cpp']\n",
    "SUFFIX_MAP = {\n",
    "    \"python\": \"py\",\n",
    "    \"javascript\": \"js\",\n",
    "    \"typescript\": \"ts\",\n",
    "    \"c&cpp\": \"cpp\",\n",
    "    \"java\": \"java\"\n",
    "}\n",
    "answer_file_line_result = {\n",
    "    \"python\":[],\n",
    "    \"java\":[],\n",
    "    \"javascript\":[],\n",
    "    \"typescript\":[],\n",
    "    \"c&cpp\":[]\n",
    "}\n",
    "def estimate_token_count(input_string):\n",
    "    # 将字符串按空格分割\n",
    "    words = input_string.split()\n",
    "    # 通常每个词会被视为一个 token，添加额外的 token 用于标点符号和其他元素\n",
    "    token_count = len(words) + sum(1 for word in words if any(char in word for char in ['.', ',', '!', '?', ';', ':']))\n",
    "    return token_count\n",
    "with open(\"../question/all_question.json\",\"r\",encoding=\"utf8\") as file:\n",
    "    data_list  = json.load(file)\n",
    "for item in data_list:\n",
    "    try:\n",
    "        task_id = item['task_id']\n",
    "        question_dir_path = rf\"E:\\code\\code_back\\python_project\\RealisticEval-Data\\all\\t{task_id}\"\n",
    "        for language in language_list:\n",
    "            language_item = item['language_version_list'][language]\n",
    "            prompt = language_item['prompt']\n",
    "            if prompt == \"\":\n",
    "                continue\n",
    "            prompt_count = estimate_token_count(prompt)\n",
    "            answer_file_line_result[language].append(prompt_count)\n",
    "    except Exception as e:\n",
    "        print(e)\n",
    "        continue\n",
    "all_language_average = 0\n",
    "for key,value in answer_file_line_result.items():\n",
    "    print(f\"{key} tokens:{sum(value)/len(value)}\")\n",
    "    all_language_average  = all_language_average+sum(value)/len(value)\n",
    "print(\"all language average\",all_language_average/5)"
   ],
   "metadata": {
    "collapsed": false
   }
  },
  {
   "cell_type": "markdown",
   "source": [
    "# 计算距离"
   ],
   "metadata": {
    "collapsed": false
   }
  },
  {
   "cell_type": "code",
   "execution_count": null,
   "outputs": [],
   "source": [
    "import json\n",
    "import pandas as pd\n",
    "import re\n",
    "\n",
    "class AdditionInfoRemove:\n",
    "\n",
    "    def remove(self,language, code):\n",
    "        if language == \"python\":\n",
    "            return self.python_remove(code)\n",
    "        elif language == \"javascript\":\n",
    "            return self.javascript_remove(code)\n",
    "        elif language == \"typescript\":\n",
    "            return self.typescript_remove(code)\n",
    "        elif language == \"java\":\n",
    "            return self.java_remove(code)\n",
    "        elif language == \"c&cpp\":\n",
    "            return self.cpp_remove(code)\n",
    "    def python_remove(self,code):\n",
    "        # 移除单行注释\n",
    "        code = re.sub(r'#.*', '', code)\n",
    "\n",
    "        # 移除多行注释\n",
    "        code = re.sub(r'\"\"\"(.*?)\"\"\"', '', code, flags=re.DOTALL)\n",
    "        code = re.sub(r\"'''(.*?)'''\", '', code, flags=re.DOTALL)\n",
    "\n",
    "        # 移除空行\n",
    "        code = re.sub(r'\\n\\s*\\n', '\\n', code)  # 移除空行\n",
    "        code = code.strip()  # 去掉开头和结尾的空行\n",
    "\n",
    "        return code\n",
    "\n",
    "    def javascript_remove(self,code):\n",
    "        js_code = re.sub(r'/\\*.*?\\*/', '', code, flags=re.DOTALL)\n",
    "        # 移除单行注释（// ...）\n",
    "        js_code = re.sub(r'//.*?$', '', js_code, flags=re.MULTILINE)\n",
    "        js_code = re.sub(r'\\n\\s*\\n', '\\n', js_code)  # 移除空行\n",
    "\n",
    "        return js_code\n",
    "\n",
    "    def typescript_remove(self,code):\n",
    "        js_code = re.sub(r'/\\*.*?\\*/', '', code, flags=re.DOTALL)\n",
    "        # 移除单行注释（// ...）\n",
    "        js_code = re.sub(r'//.*?$', '', js_code, flags=re.MULTILINE)\n",
    "        js_code = re.sub(r'\\n\\s*\\n', '\\n', js_code)  # 移除空行\n",
    "\n",
    "        return js_code\n",
    "\n",
    "    def java_remove(self,code):\n",
    "        # 移除多行注释（/* ... */）\n",
    "        java_code = re.sub(r'/\\*.*?\\*/', '', code, flags=re.DOTALL)\n",
    "        # 移除单行注释（// ...）\n",
    "        java_code = re.sub(r'//.*?$', '', java_code, flags=re.MULTILINE)\n",
    "        java_code = re.sub(r'\\n\\s*\\n', '\\n', java_code)  # 移除空行\n",
    "        return java_code\n",
    "\n",
    "    def cpp_remove(self,code):\n",
    "        # 移除多行注释（/* ... */）\n",
    "        cpp_code = re.sub(r'/\\*.*?\\*/', '', code, flags=re.DOTALL)\n",
    "        # 移除单行注释（// ...）\n",
    "        cpp_code = re.sub(r'//.*?$', '', cpp_code, flags=re.MULTILINE)\n",
    "        cpp_code = re.sub(r'\\n\\s*\\n', '\\n', cpp_code)  # 移除空行\n",
    "        return cpp_code\n",
    "\n",
    "\n",
    "def normal_leven(str1, str2):\n",
    "  len_str1 = len(str1) + 1\n",
    "  len_str2 = len(str2) + 1\n",
    "  # 创建矩阵\n",
    "  matrix = [0 for n in range(len_str1 * len_str2)]\n",
    "  #矩阵的第一行\n",
    "  for i in range(len_str1):\n",
    "    matrix[i] = i\n",
    "  # 矩阵的第一列\n",
    "  for j in range(0, len(matrix), len_str1):\n",
    "    if j % len_str1 == 0:\n",
    "      matrix[j] = j // len_str1\n",
    "  # 根据状态转移方程逐步得到编辑距离\n",
    "  for i in range(1, len_str1):\n",
    "    for j in range(1, len_str2):\n",
    "      if str1[i-1] == str2[j-1]:\n",
    "        cost = 0\n",
    "      else:\n",
    "        cost = 1\n",
    "      matrix[j*len_str1+i] = min(matrix[(j-1)*len_str1+i]+1,\n",
    "                    matrix[j*len_str1+(i-1)]+1,\n",
    "                    matrix[(j-1)*len_str1+(i-1)] + cost)\n",
    "\n",
    "  return matrix[-1]  # 返回矩阵的最后一个值，也就是编辑距离"
   ],
   "metadata": {
    "collapsed": false
   }
  },
  {
   "cell_type": "code",
   "execution_count": null,
   "outputs": [],
   "source": [
    "language_list = ['python',\"javascript\",\"typescript\",\"c&cpp\",\"java\"]\n",
    "SUFFIX_MAP = {\n",
    "    \"python\": \"py\",\n",
    "    \"javascript\": \"js\",\n",
    "    \"typescript\": \"ts\",\n",
    "    \"c&cpp\": \"cpp\",\n",
    "    \"java\": \"java\"\n",
    "}\n",
    "levenshtein_distance_result = {\n",
    "    \"python\":[],\n",
    "    \"javascript\":[],\n",
    "    \"typescript\":[],\n",
    "    \"c&cpp\":[],\n",
    "    \"java\":[]\n",
    "}\n",
    "for language in language_list:\n",
    "    print(language)\n",
    "    data_list =[]\n",
    "    # 读取回答信息\n",
    "    with open(rf\"E:\\code\\code_back\\python_project\\llm\\qa\\gpt-4_answer\\{language}_answer_pass1.jsonl\",\"r\",encoding=\"utf8\") as file:\n",
    "        json_lines = [line.strip() for line in file.readlines()]\n",
    "        for item in json_lines:\n",
    "            data_list.append(json.loads(item))\n",
    "    # map 散列\n",
    "    data_list_id_map = {}\n",
    "    for item in data_list:\n",
    "        data_list_id_map[item['task_id']] = item\n",
    "    # 多余内容去除\n",
    "    remover = AdditionInfoRemove()\n",
    "    # 读取文件数据\n",
    "    data = pd.read_excel(\"../xlsx/RealisticEval-Data.xlsx\",sheet_name=language)\n",
    "    for index,row in data.iterrows():\n",
    "        try:\n",
    "            task_id = row['task_id']\n",
    "            question_dir_path = rf\"E:\\code\\code_back\\python_project\\RealisticEval-Data\\all\\t{task_id}\"\n",
    "            original_file_path = rf\"{question_dir_path}\\original.{SUFFIX_MAP[language]}\"\n",
    "            with open(original_file_path,\"r\",encoding=\"utf8\") as file:\n",
    "                original_code = file.read()\n",
    "            original_code = remover.remove(language,original_code)\n",
    "            # 找到对应问题的\n",
    "            data_item = data_list_id_map[task_id]\n",
    "            answer_code = data_item['language_version_list'][language]['answer_list'][0]['response_code']\n",
    "            answer_code = remover.remove(language,answer_code)\n",
    "            distance = normal_leven(original_code,answer_code)\n",
    "            levenshtein_distance_result[language].append(distance)\n",
    "        except Exception as e:\n",
    "            print(e)\n",
    "            continue\n",
    "        # for key,value in levenshtein_distance_result.items():\n",
    "        #     if len(value) == 0:\n",
    "        #         continue\n",
    "        #     print(f\"{key} distance:{sum(value)/len(value)}\")\n",
    "for key,value in levenshtein_distance_result.items():\n",
    "    if len(value) == 0:\n",
    "        continue\n",
    "    print(f\"{key} distance:{sum(value)/len(value)}\")"
   ],
   "metadata": {
    "collapsed": false
   }
  },
  {
   "cell_type": "code",
   "execution_count": null,
   "outputs": [],
   "source": [],
   "metadata": {
    "collapsed": false
   }
  }
 ],
 "metadata": {
  "kernelspec": {
   "display_name": "Python 3",
   "language": "python",
   "name": "python3"
  },
  "language_info": {
   "codemirror_mode": {
    "name": "ipython",
    "version": 2
   },
   "file_extension": ".py",
   "mimetype": "text/x-python",
   "name": "python",
   "nbconvert_exporter": "python",
   "pygments_lexer": "ipython2",
   "version": "2.7.6"
  }
 },
 "nbformat": 4,
 "nbformat_minor": 0
}
