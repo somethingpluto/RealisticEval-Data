{
 "cells": [
  {
   "cell_type": "code",
   "execution_count": null,
   "metadata": {
    "collapsed": true
   },
   "outputs": [],
   "source": [
    "import pandas as pd"
   ]
  },
  {
   "cell_type": "code",
   "execution_count": null,
   "outputs": [],
   "source": [
    "# MODEL_NAME =\"codegeex4-all-9b\"\n",
    "# MODEL_NAME =\"deepseek-coder-6.7b-instruct\"\n",
    "MODEL_NAME =\"deepseek_coder_api\"\n",
    "# MODEL_NAME =\"Mistral-7B-Instruct-v0.3\"\n",
    "# MODEL_NAME = \"chatglm-6b\"\n",
    "# MODEL_NAME = \"gpt-4\"\n",
    "# MODEL_NAME = \"codegen25-7b-instruct_P\"\n",
    "LANGUAGE = \"c&cpp\"\n",
    "TYPE = \"pass10\"\n",
    "\n",
    "FILE_PATH = rf\"E:\\code\\code_back\\python_project\\RealisticEval-Data\\analysis\\model_answer_result\\{MODEL_NAME}\\{TYPE}\\{MODEL_NAME}_{LANGUAGE}_{TYPE}.xlsx\""
   ],
   "metadata": {
    "collapsed": false
   }
  },
  {
   "cell_type": "code",
   "execution_count": null,
   "outputs": [],
   "source": [
    "data = pd.read_excel(FILE_PATH)\n",
    "data"
   ],
   "metadata": {
    "collapsed": false
   }
  },
  {
   "cell_type": "code",
   "execution_count": null,
   "outputs": [],
   "source": [
    "task_id_list = data[\"task_id\"].unique().tolist()\n",
    "task_id_list"
   ],
   "metadata": {
    "collapsed": false
   }
  },
  {
   "cell_type": "code",
   "execution_count": null,
   "outputs": [],
   "source": [
    "import numpy as np\n",
    "def pass_at_k(n, c, k):\n",
    "    \"\"\"\n",
    "    计算 pass@k 指标的无偏估计。\n",
    "\n",
    "    :param n: 样本的总数\n",
    "    :param c: 正确样本的数量\n",
    "    :param k: pass@k 中的 k 值\n",
    "    :return: pass@k 的无偏估计\n",
    "    \"\"\"\n",
    "    if n - c < k:  # 如果错误样本的数量少于 k\n",
    "        return 1.0  # 直接返回 1.0，表示所有问题都被认为是解决的\n",
    "\n",
    "    # 计算 pass@k 的无偏估计\n",
    "    return 1.0 - np.prod(1.0 - k / np.arange(n - c + 1, n + 1))\n",
    "for K in [3,5]:\n",
    "    pass_value_list = []\n",
    "    for task_id in task_id_list:\n",
    "        result = data[data['task_id'] == task_id]\n",
    "        n = len(result)\n",
    "        c = len(result[result['result_return_code'] == 0])\n",
    "        passk_value = pass_at_k(n,c,k=K)\n",
    "        pass_value_list.append({\"task_id\":task_id,f\"pass_{K}\":passk_value})\n",
    "    df_data = pd.DataFrame(pass_value_list)\n",
    "    df_data.to_csv(rf\"E:\\code\\code_back\\python_project\\RealisticEval-Data\\analysis\\model_answer_result\\{MODEL_NAME}\\{TYPE}\\{MODEL_NAME}_{LANGUAGE}_pass{K}_value.csv\")"
   ],
   "metadata": {
    "collapsed": false
   }
  },
  {
   "cell_type": "code",
   "execution_count": null,
   "outputs": [],
   "source": [],
   "metadata": {
    "collapsed": false
   }
  },
  {
   "cell_type": "code",
   "execution_count": null,
   "outputs": [],
   "source": [],
   "metadata": {
    "collapsed": false
   }
  }
 ],
 "metadata": {
  "kernelspec": {
   "display_name": "Python 3",
   "language": "python",
   "name": "python3"
  },
  "language_info": {
   "codemirror_mode": {
    "name": "ipython",
    "version": 2
   },
   "file_extension": ".py",
   "mimetype": "text/x-python",
   "name": "python",
   "nbconvert_exporter": "python",
   "pygments_lexer": "ipython2",
   "version": "2.7.6"
  }
 },
 "nbformat": 4,
 "nbformat_minor": 0
}
