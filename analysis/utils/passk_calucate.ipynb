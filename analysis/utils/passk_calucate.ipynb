{
 "cells": [
  {
   "cell_type": "code",
   "execution_count": 35,
   "metadata": {
    "collapsed": true
   },
   "outputs": [],
   "source": [
    "import pandas as pd"
   ]
  },
  {
   "cell_type": "code",
   "execution_count": 36,
   "outputs": [],
   "source": [
    "# MODEL_NAME =\"codegeex4-all-9b\"\n",
    "# MODEL_NAME =\"deepseek-coder-6.7b-instruct\"\n",
    "MODEL_NAME =\"CodeLlama-7b-hf\"\n",
    "# MODEL_NAME =\"Mistral-7B-Instruct-v0.3\"\n",
    "# MODEL_NAME = \"chatglm-6b\"\n",
    "# MODEL_NAME = \"gpt-4\"\n",
    "# MODEL_NAME = \"codegen25-7b-instruct_P\"\n",
    "LANGUAGE = \"java\"\n",
    "TYPE = \"pass10\"\n",
    "\n",
    "FILE_PATH = rf\"E:\\code\\code_back\\python_project\\RealisticEval-Data\\analysis\\model_answer_result\\{MODEL_NAME}\\{TYPE}\\{MODEL_NAME}_{LANGUAGE}_{TYPE}.xlsx\""
   ],
   "metadata": {
    "collapsed": false
   }
  },
  {
   "cell_type": "code",
   "execution_count": 37,
   "outputs": [
    {
     "data": {
      "text/plain": "      task_id  result_return_code  CodeLlama-7b-hf  answer_index\n0           5                   0  CodeLlama-7b-hf             9\n1           5                   0  CodeLlama-7b-hf             9\n2           5                   0  CodeLlama-7b-hf             9\n3           5                   0  CodeLlama-7b-hf             9\n4           5                   0  CodeLlama-7b-hf             9\n...       ...                 ...              ...           ...\n3385      606                   0  CodeLlama-7b-hf             9\n3386      606                   0  CodeLlama-7b-hf             9\n3387      606                   0  CodeLlama-7b-hf             9\n3388      606                   0  CodeLlama-7b-hf             9\n3389      606                   0  CodeLlama-7b-hf             9\n\n[3390 rows x 4 columns]",
      "text/html": "<div>\n<style scoped>\n    .dataframe tbody tr th:only-of-type {\n        vertical-align: middle;\n    }\n\n    .dataframe tbody tr th {\n        vertical-align: top;\n    }\n\n    .dataframe thead th {\n        text-align: right;\n    }\n</style>\n<table border=\"1\" class=\"dataframe\">\n  <thead>\n    <tr style=\"text-align: right;\">\n      <th></th>\n      <th>task_id</th>\n      <th>result_return_code</th>\n      <th>CodeLlama-7b-hf</th>\n      <th>answer_index</th>\n    </tr>\n  </thead>\n  <tbody>\n    <tr>\n      <th>0</th>\n      <td>5</td>\n      <td>0</td>\n      <td>CodeLlama-7b-hf</td>\n      <td>9</td>\n    </tr>\n    <tr>\n      <th>1</th>\n      <td>5</td>\n      <td>0</td>\n      <td>CodeLlama-7b-hf</td>\n      <td>9</td>\n    </tr>\n    <tr>\n      <th>2</th>\n      <td>5</td>\n      <td>0</td>\n      <td>CodeLlama-7b-hf</td>\n      <td>9</td>\n    </tr>\n    <tr>\n      <th>3</th>\n      <td>5</td>\n      <td>0</td>\n      <td>CodeLlama-7b-hf</td>\n      <td>9</td>\n    </tr>\n    <tr>\n      <th>4</th>\n      <td>5</td>\n      <td>0</td>\n      <td>CodeLlama-7b-hf</td>\n      <td>9</td>\n    </tr>\n    <tr>\n      <th>...</th>\n      <td>...</td>\n      <td>...</td>\n      <td>...</td>\n      <td>...</td>\n    </tr>\n    <tr>\n      <th>3385</th>\n      <td>606</td>\n      <td>0</td>\n      <td>CodeLlama-7b-hf</td>\n      <td>9</td>\n    </tr>\n    <tr>\n      <th>3386</th>\n      <td>606</td>\n      <td>0</td>\n      <td>CodeLlama-7b-hf</td>\n      <td>9</td>\n    </tr>\n    <tr>\n      <th>3387</th>\n      <td>606</td>\n      <td>0</td>\n      <td>CodeLlama-7b-hf</td>\n      <td>9</td>\n    </tr>\n    <tr>\n      <th>3388</th>\n      <td>606</td>\n      <td>0</td>\n      <td>CodeLlama-7b-hf</td>\n      <td>9</td>\n    </tr>\n    <tr>\n      <th>3389</th>\n      <td>606</td>\n      <td>0</td>\n      <td>CodeLlama-7b-hf</td>\n      <td>9</td>\n    </tr>\n  </tbody>\n</table>\n<p>3390 rows × 4 columns</p>\n</div>"
     },
     "execution_count": 37,
     "metadata": {},
     "output_type": "execute_result"
    }
   ],
   "source": [
    "data = pd.read_excel(FILE_PATH)\n",
    "data"
   ],
   "metadata": {
    "collapsed": false
   }
  },
  {
   "cell_type": "code",
   "execution_count": 38,
   "outputs": [
    {
     "data": {
      "text/plain": "[5,\n 6,\n 8,\n 9,\n 11,\n 12,\n 13,\n 17,\n 18,\n 19,\n 20,\n 21,\n 22,\n 23,\n 24,\n 26,\n 27,\n 28,\n 31,\n 35,\n 36,\n 41,\n 42,\n 43,\n 44,\n 45,\n 46,\n 47,\n 52,\n 54,\n 55,\n 56,\n 58,\n 59,\n 60,\n 62,\n 64,\n 65,\n 67,\n 68,\n 70,\n 71,\n 72,\n 73,\n 75,\n 76,\n 77,\n 78,\n 79,\n 80,\n 81,\n 83,\n 84,\n 86,\n 214,\n 215,\n 219,\n 220,\n 224,\n 226,\n 229,\n 230,\n 231,\n 232,\n 233,\n 234,\n 235,\n 241,\n 242,\n 244,\n 248,\n 250,\n 256,\n 259,\n 260,\n 262,\n 263,\n 264,\n 267,\n 268,\n 269,\n 281,\n 282,\n 286,\n 290,\n 291,\n 369,\n 370,\n 380,\n 381,\n 386,\n 390,\n 392,\n 395,\n 396,\n 401,\n 404,\n 405,\n 406,\n 410,\n 413,\n 420,\n 423,\n 424,\n 427,\n 430,\n 431,\n 433,\n 444,\n 445,\n 451,\n 460,\n 462,\n 465,\n 468,\n 469,\n 470,\n 471,\n 474,\n 475,\n 476,\n 482,\n 483,\n 485,\n 486,\n 487,\n 488,\n 490,\n 492,\n 493,\n 494,\n 495,\n 496,\n 498,\n 499,\n 500,\n 501,\n 505,\n 506,\n 507,\n 509,\n 510,\n 511,\n 512,\n 513,\n 514,\n 515,\n 516,\n 517,\n 518,\n 519,\n 520,\n 521,\n 522,\n 523,\n 524,\n 525,\n 526,\n 527,\n 546,\n 547,\n 551,\n 552,\n 555,\n 557,\n 558,\n 87,\n 88,\n 89,\n 92,\n 93,\n 95,\n 96,\n 97,\n 99,\n 100,\n 101,\n 103,\n 106,\n 107,\n 108,\n 110,\n 112,\n 116,\n 117,\n 118,\n 121,\n 122,\n 123,\n 124,\n 125,\n 129,\n 130,\n 133,\n 134,\n 135,\n 138,\n 139,\n 292,\n 298,\n 299,\n 315,\n 317,\n 318,\n 319,\n 320,\n 322,\n 323,\n 326,\n 447,\n 450,\n 528,\n 529,\n 530,\n 532,\n 533,\n 534,\n 535,\n 536,\n 537,\n 540,\n 541,\n 542,\n 543,\n 544,\n 545,\n 559,\n 560,\n 140,\n 141,\n 142,\n 143,\n 144,\n 145,\n 146,\n 150,\n 151,\n 153,\n 155,\n 156,\n 157,\n 158,\n 159,\n 160,\n 161,\n 162,\n 165,\n 166,\n 167,\n 168,\n 169,\n 331,\n 334,\n 341,\n 342,\n 565,\n 566,\n 567,\n 569,\n 571,\n 575,\n 576,\n 577,\n 578,\n 581,\n 582,\n 583,\n 584,\n 585,\n 586,\n 170,\n 173,\n 174,\n 176,\n 177,\n 178,\n 179,\n 180,\n 181,\n 182,\n 348,\n 349,\n 350,\n 351,\n 352,\n 609,\n 610,\n 611,\n 612,\n 614,\n 615,\n 616,\n 617,\n 623,\n 625,\n 626,\n 628,\n 630,\n 631,\n 632,\n 633,\n 183,\n 184,\n 187,\n 188,\n 189,\n 190,\n 191,\n 196,\n 197,\n 198,\n 200,\n 202,\n 203,\n 204,\n 206,\n 207,\n 209,\n 210,\n 354,\n 355,\n 356,\n 357,\n 358,\n 365,\n 481,\n 589,\n 590,\n 592,\n 594,\n 595,\n 597,\n 598,\n 599,\n 601,\n 603,\n 604,\n 605,\n 606]"
     },
     "execution_count": 38,
     "metadata": {},
     "output_type": "execute_result"
    }
   ],
   "source": [
    "task_id_list = data[\"task_id\"].unique().tolist()\n",
    "task_id_list"
   ],
   "metadata": {
    "collapsed": false
   }
  },
  {
   "cell_type": "code",
   "execution_count": 39,
   "outputs": [],
   "source": [
    "import numpy as np\n",
    "def pass_at_k(n, c, k):\n",
    "    \"\"\"\n",
    "    计算 pass@k 指标的无偏估计。\n",
    "\n",
    "    :param n: 样本的总数\n",
    "    :param c: 正确样本的数量\n",
    "    :param k: pass@k 中的 k 值\n",
    "    :return: pass@k 的无偏估计\n",
    "    \"\"\"\n",
    "    if n - c < k:  # 如果错误样本的数量少于 k\n",
    "        return 1.0  # 直接返回 1.0，表示所有问题都被认为是解决的\n",
    "\n",
    "    # 计算 pass@k 的无偏估计\n",
    "    return 1.0 - np.prod(1.0 - k / np.arange(n - c + 1, n + 1))\n",
    "for K in [3,5]:\n",
    "    pass_value_list = []\n",
    "    for task_id in task_id_list:\n",
    "        result = data[data['task_id'] == task_id]\n",
    "        n = len(result)\n",
    "        c = len(result[result['result_return_code'] == 0])\n",
    "        passk_value = pass_at_k(n,c,k=K)\n",
    "        pass_value_list.append({\"task_id\":task_id,f\"pass_{K}\":passk_value})\n",
    "    df_data = pd.DataFrame(pass_value_list)\n",
    "    df_data.to_csv(rf\"E:\\code\\code_back\\python_project\\RealisticEval-Data\\analysis\\model_answer_result\\{MODEL_NAME}\\{TYPE}\\{MODEL_NAME}_{LANGUAGE}_pass{K}_value.csv\")"
   ],
   "metadata": {
    "collapsed": false
   }
  },
  {
   "cell_type": "code",
   "execution_count": 30,
   "outputs": [],
   "source": [],
   "metadata": {
    "collapsed": false
   }
  },
  {
   "cell_type": "code",
   "execution_count": 30,
   "outputs": [],
   "source": [],
   "metadata": {
    "collapsed": false
   }
  }
 ],
 "metadata": {
  "kernelspec": {
   "display_name": "Python 3",
   "language": "python",
   "name": "python3"
  },
  "language_info": {
   "codemirror_mode": {
    "name": "ipython",
    "version": 2
   },
   "file_extension": ".py",
   "mimetype": "text/x-python",
   "name": "python",
   "nbconvert_exporter": "python",
   "pygments_lexer": "ipython2",
   "version": "2.7.6"
  }
 },
 "nbformat": 4,
 "nbformat_minor": 0
}
