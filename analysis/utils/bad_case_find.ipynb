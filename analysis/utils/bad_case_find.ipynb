{
 "cells": [
  {
   "cell_type": "code",
   "execution_count": 1,
   "metadata": {
    "collapsed": true
   },
   "outputs": [],
   "source": [
    "import pandas as pd"
   ]
  },
  {
   "cell_type": "code",
   "execution_count": 2,
   "outputs": [
    {
     "data": {
      "text/plain": "     task_id  result_return_code  model\n44        64                   1  gpt-4\n50        72                   1  gpt-4\n57        79                   1  gpt-4\n67       215                   1  gpt-4\n72       224                   1  gpt-4\n..       ...                 ...    ...\n366      205                   1  gpt-4\n379      361                   1  gpt-4\n384      592                   1  gpt-4\n389      599                   1  gpt-4\n391      603                   1  gpt-4\n\n[67 rows x 3 columns]",
      "text/html": "<div>\n<style scoped>\n    .dataframe tbody tr th:only-of-type {\n        vertical-align: middle;\n    }\n\n    .dataframe tbody tr th {\n        vertical-align: top;\n    }\n\n    .dataframe thead th {\n        text-align: right;\n    }\n</style>\n<table border=\"1\" class=\"dataframe\">\n  <thead>\n    <tr style=\"text-align: right;\">\n      <th></th>\n      <th>task_id</th>\n      <th>result_return_code</th>\n      <th>model</th>\n    </tr>\n  </thead>\n  <tbody>\n    <tr>\n      <th>44</th>\n      <td>64</td>\n      <td>1</td>\n      <td>gpt-4</td>\n    </tr>\n    <tr>\n      <th>50</th>\n      <td>72</td>\n      <td>1</td>\n      <td>gpt-4</td>\n    </tr>\n    <tr>\n      <th>57</th>\n      <td>79</td>\n      <td>1</td>\n      <td>gpt-4</td>\n    </tr>\n    <tr>\n      <th>67</th>\n      <td>215</td>\n      <td>1</td>\n      <td>gpt-4</td>\n    </tr>\n    <tr>\n      <th>72</th>\n      <td>224</td>\n      <td>1</td>\n      <td>gpt-4</td>\n    </tr>\n    <tr>\n      <th>...</th>\n      <td>...</td>\n      <td>...</td>\n      <td>...</td>\n    </tr>\n    <tr>\n      <th>366</th>\n      <td>205</td>\n      <td>1</td>\n      <td>gpt-4</td>\n    </tr>\n    <tr>\n      <th>379</th>\n      <td>361</td>\n      <td>1</td>\n      <td>gpt-4</td>\n    </tr>\n    <tr>\n      <th>384</th>\n      <td>592</td>\n      <td>1</td>\n      <td>gpt-4</td>\n    </tr>\n    <tr>\n      <th>389</th>\n      <td>599</td>\n      <td>1</td>\n      <td>gpt-4</td>\n    </tr>\n    <tr>\n      <th>391</th>\n      <td>603</td>\n      <td>1</td>\n      <td>gpt-4</td>\n    </tr>\n  </tbody>\n</table>\n<p>67 rows × 3 columns</p>\n</div>"
     },
     "execution_count": 2,
     "metadata": {},
     "output_type": "execute_result"
    }
   ],
   "source": [
    "data = pd.read_csv(\"../model_answer_result/gpt-4/pass1/gpt-4_python_pass1.csv\")\n",
    "no_pass_task_list = data[data['result_return_code'] !=0]\n",
    "no_pass_task_list"
   ],
   "metadata": {
    "collapsed": false
   }
  },
  {
   "cell_type": "code",
   "execution_count": 5,
   "outputs": [
    {
     "data": {
      "text/plain": "67"
     },
     "execution_count": 5,
     "metadata": {},
     "output_type": "execute_result"
    }
   ],
   "source": [
    "id_list  = no_pass_task_list['task_id'].unique().tolist()\n",
    "len(id_list)"
   ],
   "metadata": {
    "collapsed": false
   }
  },
  {
   "cell_type": "code",
   "execution_count": null,
   "outputs": [],
   "source": [],
   "metadata": {
    "collapsed": false
   }
  }
 ],
 "metadata": {
  "kernelspec": {
   "display_name": "Python 3",
   "language": "python",
   "name": "python3"
  },
  "language_info": {
   "codemirror_mode": {
    "name": "ipython",
    "version": 2
   },
   "file_extension": ".py",
   "mimetype": "text/x-python",
   "name": "python",
   "nbconvert_exporter": "python",
   "pygments_lexer": "ipython2",
   "version": "2.7.6"
  }
 },
 "nbformat": 4,
 "nbformat_minor": 0
}
