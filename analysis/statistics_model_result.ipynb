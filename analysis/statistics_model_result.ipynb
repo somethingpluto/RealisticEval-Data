{
 "cells": [
  {
   "cell_type": "markdown",
   "source": [
    "# LLM回答校验"
   ],
   "metadata": {
    "collapsed": false
   }
  },
  {
   "cell_type": "code",
   "execution_count": null,
   "metadata": {
    "collapsed": true
   },
   "outputs": [],
   "source": [
    "import os"
   ]
  },
  {
   "cell_type": "code",
   "execution_count": null,
   "outputs": [],
   "source": [
    "def delete_non_ipynb_files():\n",
    "    # 获取当前工作目录\n",
    "    current_directory = os.getcwd()\n",
    "\n",
    "    # 遍历当前目录中的所有文件\n",
    "    for filename in os.listdir(current_directory):\n",
    "        # 检查文件是否为.ipynb文件\n",
    "        if not filename.endswith('.ipynb'):\n",
    "            file_path = os.path.join(current_directory, filename)\n",
    "            # 检查路径是否为文件，避免删除目录\n",
    "            if os.path.isfile(file_path):\n",
    "                try:\n",
    "                    # 删除文件\n",
    "                    os.remove(file_path)\n",
    "                    print(f\"Deleted: {file_path}\")\n",
    "                except Exception as e:\n",
    "                    print(f\"Error deleting {file_path}: {e}\")\n"
   ],
   "metadata": {
    "collapsed": false
   }
  },
  {
   "cell_type": "code",
   "execution_count": null,
   "outputs": [],
   "source": [
    "TASK_LIST = [\n",
    "    # {\n",
    "    #     \"model\": \"chatglm-6b\",\n",
    "    #     \"language\": [\"c&cpp\"]\n",
    "    # },\n",
    "    # {\n",
    "    #     \"model\": \"codegeex4-all-9b\",\n",
    "    #     \"language\": [\"python\",\"java\"]\n",
    "    # },\n",
    "    # {\n",
    "    #     \"model\": \"codegen25-7b-instruct_P\",\n",
    "    #     \"language\": [\"c&cpp\"]\n",
    "    # },\n",
    "    # {\n",
    "    #     \"model\": \"deepseek-coder-6.7b-instruct\",\n",
    "    #     \"language\": [\"python\", \"javascript\", \"typescript\", \"java\"]\n",
    "    # },\n",
    "    # {\n",
    "    #     \"model\": \"Meta-Llama-3.1-8B-Instruct\",\n",
    "    #     \"language\": [\"javascript\",\"python\",\"typescript\",\"java\"]\n",
    "    # },\n",
    "    # {\n",
    "    #     \"model\": \"Mistral-7B-Instruct-v0.3\",\n",
    "    #     \"language\": [\"python\"]\n",
    "    # },\n",
    "    # {\n",
    "    #     \"model\": \"Phi-3-small-8k-instruct\",\n",
    "    #     \"language\": [\"python\"]\n",
    "    # },\n",
    "    # {\n",
    "    #     \"model\": \"CodeLlama-7b-hf\",\n",
    "    #     \"language\": [\"python\", \"javascript\", \"typescript\", \"java\"]\n",
    "    # },\n",
    "    # {\n",
    "    #     \"model\": \"starcoder2-7b\",\n",
    "    #     \"language\": [\"python\", \"javascript\", \"typescript\", \"c&cpp\"]\n",
    "    # },\n",
    "    {\n",
    "        \"model\": \"gpt-3.5-turbo\",\n",
    "        \"language\": [\"python\",\"java\",\"javascript\",\"typescript\"]\n",
    "    }\n",
    "]\n",
    "ANSWER_PATH = \"E:\\code\\code_back\\python_project\\llm\\qa\""
   ],
   "metadata": {
    "collapsed": false
   }
  },
  {
   "cell_type": "code",
   "execution_count": null,
   "outputs": [],
   "source": [
    "from executor.java_executor import JavaExecutor\n",
    "from executor.ccpp_executor import CCPPExecutor\n",
    "from executor.typescript_executor import TypeScriptExecutor\n",
    "from executor.javascript_executor import JavaScriptExecutor\n",
    "from executor.python_executor import PythonExecutor\n",
    "\n",
    "\n",
    "def get_parser(language, model):\n",
    "    if language == \"python\":\n",
    "        return PythonExecutor(model)\n",
    "    elif language == \"javascript\":\n",
    "        return JavaScriptExecutor(model)\n",
    "    elif language == \"typescript\":\n",
    "        return TypeScriptExecutor(model)\n",
    "    elif language == \"c&cpp\":\n",
    "        return CCPPExecutor(model)\n",
    "    elif language == \"java\":\n",
    "        return JavaExecutor(model)\n",
    "\n",
    "\n",
    "from pathlib import Path\n",
    "\n",
    "for task in TASK_LIST:\n",
    "    answer_path = f\"{ANSWER_PATH}\\\\{task['model']}\"\n",
    "    Path(f\"./xlsx/model_answer_result/{task['model']}\").mkdir(exist_ok=True)\n",
    "    for language in task[\"language\"]:\n",
    "        try:\n",
    "            print(language)\n",
    "            parser = get_parser(language, task['model'])\n",
    "            file_path = f\"{ANSWER_PATH}\\\\{task['model']}_answer\\\\{language}_answer.json\"\n",
    "            parser.batch_run(file_path)\n",
    "        except Exception as e:\n",
    "            print(e)\n",
    "    delete_non_ipynb_files()"
   ],
   "metadata": {
    "collapsed": false
   }
  },
  {
   "cell_type": "markdown",
   "source": [
    "# LLM回答数据统计"
   ],
   "metadata": {
    "collapsed": false
   }
  },
  {
   "cell_type": "code",
   "execution_count": 1,
   "outputs": [],
   "source": [
    "import pandas as pd"
   ],
   "metadata": {
    "collapsed": false
   }
  },
  {
   "cell_type": "code",
   "execution_count": 15,
   "outputs": [],
   "source": [
    "TASK_LIST = [\n",
    "    {\n",
    "        \"model\": \"chatglm-6b\",\n",
    "        \"language\": [\"python\"]\n",
    "    },\n",
    "    {\n",
    "        \"model\": \"codegeex4-all-9b\",\n",
    "        \"language\": [\"python\"]\n",
    "    },\n",
    "    {\n",
    "        \"model\": \"codegen25-7b-instruct_P\",\n",
    "        \"language\": [\"python\"]\n",
    "    },\n",
    "    {\n",
    "        \"model\": \"CodeLlama-7b-hf\",\n",
    "        \"language\": [\"python\"]\n",
    "    },\n",
    "    {\n",
    "        \"model\": \"deepseek-coder-6.7b-instruct\",\n",
    "        \"language\": [\"python\"]\n",
    "    },\n",
    "    {\n",
    "        \"model\": \"Meta-Llama-3.1-8B-Instruct\",\n",
    "        \"language\": [\"python\"]\n",
    "    },\n",
    "    {\n",
    "        \"model\": \"Mistral-7B-Instruct-v0.3\",\n",
    "        \"language\": [\"python\"]\n",
    "    },\n",
    "    {\n",
    "        \"model\": \"Phi-3-small-8k-instruct\",\n",
    "        \"language\": [\"python\"]\n",
    "    },\n",
    "\n",
    "    {\n",
    "        \"model\": \"starcoder2-7b\",\n",
    "        \"language\": [\"python\"]\n",
    "    },\n",
    "    {\n",
    "        \"model\": \"gpt-3.5-turbo\",\n",
    "        \"language\":[\"python\"]\n",
    "    },\n",
    "        {\n",
    "        \"model\": \"gpt-4\",\n",
    "        \"language\":[\"python\"]\n",
    "    }\n",
    "]"
   ],
   "metadata": {
    "collapsed": false
   }
  },
  {
   "cell_type": "code",
   "execution_count": 17,
   "outputs": [
    {
     "name": "stdout",
     "output_type": "stream",
     "text": [
      "[Errno 2] No such file or directory: './model_answer_result/chatglm-6b/pass10/chatglm-6b_python_pass10.xlsx'\n",
      "[Errno 2] No such file or directory: './model_answer_result/codegen25-7b-instruct_P/pass1/codegen25-7b-instruct_P_python_pass1.xlsx'\n",
      "[Errno 2] No such file or directory: './model_answer_result/codegen25-7b-instruct_P/pass10/codegen25-7b-instruct_P_python_pass10.xlsx'\n",
      "[Errno 2] No such file or directory: './model_answer_result/CodeLlama-7b-hf/pass1/CodeLlama-7b-hf_python_pass1.xlsx'\n",
      "[Errno 2] No such file or directory: './model_answer_result/CodeLlama-7b-hf/pass10/CodeLlama-7b-hf_python_pass10.xlsx'\n",
      "[Errno 2] No such file or directory: './model_answer_result/Mistral-7B-Instruct-v0.3/pass10/Mistral-7B-Instruct-v0.3_python_pass10.xlsx'\n",
      "[Errno 2] No such file or directory: './model_answer_result/Phi-3-small-8k-instruct/pass10/Phi-3-small-8k-instruct_python_pass10.xlsx'\n",
      "[Errno 2] No such file or directory: './model_answer_result/starcoder2-7b/pass1/starcoder2-7b_python_pass1.xlsx'\n",
      "[Errno 2] No such file or directory: './model_answer_result/starcoder2-7b/pass10/starcoder2-7b_python_pass10.xlsx'\n"
     ]
    }
   ],
   "source": [
    "result_list = []\n",
    "for task in TASK_LIST:\n",
    "    for type in [\"pass1\",\"pass10\"]:\n",
    "        model_name = task[\"model\"]\n",
    "        language = task[\"language\"]\n",
    "        temp = {\n",
    "            \"model\": model_name\n",
    "        }\n",
    "        for l in language:\n",
    "            try:\n",
    "                file_path = f\"./model_answer_result/{model_name}/{type}/{model_name}_{l}_{type}.xlsx\"\n",
    "                data = pd.read_excel(file_path)\n",
    "                pass_count = (data[\"result_return_code\"] == 0).sum()\n",
    "                failed_count = (data[\"result_return_code\"] != 0).sum()\n",
    "                pass_rate = (pass_count / len(data)) * 100\n",
    "                temp[f\"{l}_pass_count\"] = pass_count\n",
    "                temp[f\"{l}_failed_count\"] = failed_count\n",
    "                temp[\"type\"] = type\n",
    "                temp[f\"{l}_pass_rate\"] = f\"{pass_rate:.2f}%\"\n",
    "                result_list.append(temp)\n",
    "            except Exception as e:\n",
    "                print(e)\n",
    "                continue\n",
    "result_data = pd.DataFrame(result_list)\n",
    "result_data.to_excel(\"./model_answer_result.xlsx\")"
   ],
   "metadata": {
    "collapsed": false
   }
  },
  {
   "cell_type": "code",
   "execution_count": null,
   "outputs": [],
   "source": [],
   "metadata": {
    "collapsed": false
   }
  }
 ],
 "metadata": {
  "kernelspec": {
   "display_name": "Python 3",
   "language": "python",
   "name": "python3"
  },
  "language_info": {
   "codemirror_mode": {
    "name": "ipython",
    "version": 2
   },
   "file_extension": ".py",
   "mimetype": "text/x-python",
   "name": "python",
   "nbconvert_exporter": "python",
   "pygments_lexer": "ipython2",
   "version": "2.7.6"
  }
 },
 "nbformat": 4,
 "nbformat_minor": 0
}
