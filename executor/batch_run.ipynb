{
 "cells": [
  {
   "cell_type": "code",
   "execution_count": 1,
   "metadata": {
    "collapsed": true
   },
   "outputs": [],
   "source": [
    "import os"
   ]
  },
  {
   "cell_type": "code",
   "execution_count": null,
   "outputs": [],
   "source": [
    "TASK_LIST = [\n",
    "    # {\n",
    "    #     \"model\": \"chatglm-6b\",\n",
    "    #     \"language\": [\"c&cpp\"]\n",
    "    # },\n",
    "    # {\n",
    "    #     \"model\": \"codegeex4-all-9b\",\n",
    "    #     \"language\": [\"python\",\"java\"]\n",
    "    # },\n",
    "    # {\n",
    "    #     \"model\": \"codegen25-7b-instruct_P\",\n",
    "    #     \"language\": [\"c&cpp\"]\n",
    "    # },\n",
    "    # {\n",
    "    #     \"model\": \"deepseek-coder-6.7b-instruct\",\n",
    "    #     \"language\": [\"python\", \"javascript\", \"typescript\", \"java\"]\n",
    "    # },\n",
    "    # {\n",
    "    #     \"model\": \"Meta-Llama-3.1-8B-Instruct\",\n",
    "    #     \"language\": [\"javascript\",\"python\",\"typescript\",\"java\"]\n",
    "    # },\n",
    "    # {\n",
    "    #     \"model\": \"Mistral-7B-Instruct-v0.3\",\n",
    "    #     \"language\": [\"python\"]\n",
    "    # },\n",
    "    # {\n",
    "    #     \"model\": \"Phi-3-small-8k-instruct\",\n",
    "    #     \"language\": [\"python\"]\n",
    "    # },\n",
    "    # {\n",
    "    #     \"model\": \"CodeLlama-7b-hf\",\n",
    "    #     \"language\": [\"python\", \"javascript\", \"typescript\", \"java\"]\n",
    "    # },\n",
    "    # {\n",
    "    #     \"model\": \"starcoder2-7b\",\n",
    "    #     \"language\": [\"python\", \"javascript\", \"typescript\", \"c&cpp\"]\n",
    "    # },\n",
    "    {\n",
    "        \"model\": \"gpt-3.5-turbo\",\n",
    "        \"language\": [\"python\", \"javascript\", \"typescript\", \"c&cpp\"]\n",
    "    },\n",
    "        {\n",
    "        \"model\": \"gpt-4\",\n",
    "        \"language\": [\"python\", \"javascript\", \"typescript\", \"c&cpp\"]\n",
    "    }\n",
    "]"
   ],
   "metadata": {
    "collapsed": false
   }
  },
  {
   "cell_type": "code",
   "execution_count": null,
   "outputs": [],
   "source": [
    "from executor.java_executor import JavaExecutor\n",
    "from executor.ccpp_executor import CCPPExecutor\n",
    "from executor.typescript_executor import TypeScriptExecutor\n",
    "from executor.javascript_executor import JavaScriptExecutor\n",
    "from executor.python_executor import PythonExecutor\n",
    "\n",
    "\n",
    "def get_parser(language, model):\n",
    "    if language == \"python\":\n",
    "        return PythonExecutor(model)\n",
    "    elif language == \"javascript\":\n",
    "        return JavaScriptExecutor(model)\n",
    "    elif language == \"typescript\":\n",
    "        return TypeScriptExecutor(model)\n",
    "    elif language == \"c&cpp\":\n",
    "        return CCPPExecutor(model)\n",
    "    elif language == \"java\":\n",
    "        return JavaExecutor(model)\n"
   ],
   "metadata": {
    "collapsed": false
   }
  }
 ],
 "metadata": {
  "kernelspec": {
   "display_name": "Python 3",
   "language": "python",
   "name": "python3"
  },
  "language_info": {
   "codemirror_mode": {
    "name": "ipython",
    "version": 2
   },
   "file_extension": ".py",
   "mimetype": "text/x-python",
   "name": "python",
   "nbconvert_exporter": "python",
   "pygments_lexer": "ipython2",
   "version": "2.7.6"
  }
 },
 "nbformat": 4,
 "nbformat_minor": 0
}
